{
  "nbformat": 4,
  "nbformat_minor": 0,
  "metadata": {
    "colab": {
      "name": "Haoning Liu.ipynb",
      "provenance": [],
      "authorship_tag": "ABX9TyORaaE0fJ7VdQp+vSRwNx/p",
      "include_colab_link": true
    },
    "kernelspec": {
      "name": "python3",
      "display_name": "Python 3"
    },
    "language_info": {
      "name": "python"
    }
  },
  "cells": [
    {
      "cell_type": "markdown",
      "metadata": {
        "id": "view-in-github",
        "colab_type": "text"
      },
      "source": [
        "<a href=\"https://colab.research.google.com/github/hliu282/QTM250/blob/main/Haoning_Liu.ipynb\" target=\"_parent\"><img src=\"https://colab.research.google.com/assets/colab-badge.svg\" alt=\"Open In Colab\"/></a>"
      ]
    },
    {
      "cell_type": "markdown",
      "source": [
        "My name is Haoning Liu. I am currently a senior student at Emory University, majoring in economics. A fun fact about me is I used to play volleyball in high school and received the National level athlete certificate after winning the national champion of high-school men’s volleyball tournament. "
      ],
      "metadata": {
        "id": "PAw9pob5Uoqt"
      }
    },
    {
      "cell_type": "code",
      "execution_count": null,
      "metadata": {
        "id": "AkfbChe2UoCU"
      },
      "outputs": [],
      "source": [
        ""
      ]
    }
  ]
}